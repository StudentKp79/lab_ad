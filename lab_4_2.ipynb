{
 "cells": [
  {
   "cell_type": "code",
   "execution_count": 1,
   "metadata": {
    "ExecuteTime": {
     "end_time": "2024-05-18T11:41:42.248861Z",
     "start_time": "2024-05-18T11:41:42.240196Z"
    }
   },
   "source": [
    "import pandas as pd\n",
    "import numpy as np\n",
    "import matplotlib.pyplot as plt\n",
    "import missingno as msno\n",
    "from scipy.stats import pearsonr, spearmanr\n",
    "from sklearn.preprocessing import OneHotEncoder\n",
    "import seaborn as sns\n",
    "from sklearn.model_selection import train_test_split\n",
    "from sklearn.linear_model import LinearRegression\n",
    "from sklearn.metrics import mean_squared_error, r2_score\n",
    "\n",
    "print(\"Setup complete\")\n",
    "\n",
    "file = \"cars.data\""
   ],
   "outputs": []
  },
  {
   "cell_type": "markdown",
   "metadata": {},
   "source": [
    "#### Створення dataframe з csv файлу"
   ]
  },
  {
   "cell_type": "code",
   "execution_count": 2,
   "metadata": {
    "ExecuteTime": {
     "end_time": "2024-05-18T11:43:42.014210Z",
     "start_time": "2024-05-18T11:43:41.997586Z"
    }
   },
   "source": [
    "def create_numpy_arr(file1):\n",
    "    data = np.genfromtxt(file1, delimiter=',')\n",
    "    return data\n",
    "\n",
    "def create_data_frame(file1):\n",
    "    header = ['symboling', 'normalized-losses', 'make', 'fuel-type', 'aspiration', 'num-of-doors', 'body-style', 'drive-wheels', 'engine-location', 'wheel-base', 'length', 'width', 'height', 'curb-weight', 'engine-type', 'num-of-cylinders', 'engine-size', 'fuel-system', 'bore', 'stroke', 'compression-ratio', 'horsepower', 'peak-rpm', 'city-mpg', 'highway-mpg', 'price']\n",
    "    df1 = pd.read_csv(file1, names=header, low_memory=False, na_values=\"?\")\n",
    "    return df1\n",
    "\n",
    "df = create_data_frame(file)\n",
    "df_np = create_numpy_arr(file)"
   ],
   "outputs": []
  },
  {
   "cell_type": "markdown",
   "metadata": {},
   "source": [
    "#### Видалення пустих даних"
   ]
  },
  {
   "cell_type": "code",
   "execution_count": 3,
   "metadata": {
    "ExecuteTime": {
     "end_time": "2024-05-18T11:44:02.949850Z",
     "start_time": "2024-05-18T11:44:01.991105Z"
    }
   },
   "source": [
    "# Опрацювання пустих значень\n",
    "msno.matrix(df)\n",
    "\n",
    "df = df.dropna(subset=['num-of-doors', 'stroke', 'bore', 'normalized-losses'] )\n",
    "msno.matrix(df)"
   ],
   "outputs": []
  },
  {
   "cell_type": "markdown",
   "metadata": {},
   "source": [
    "#### Нормалізація даних"
   ]
  },
  {
   "cell_type": "code",
   "execution_count": 7,
   "metadata": {
    "ExecuteTime": {
     "end_time": "2024-05-18T11:47:10.827834Z",
     "start_time": "2024-05-18T11:47:10.818233Z"
    }
   },
   "source": [
    "def normalize_dataset(dataset):\n",
    "    normalized_dataset = dataset.copy()\n",
    "    for column in normalized_dataset.columns:\n",
    "        if normalized_dataset[column].dtype in ['int64', 'float64']:\n",
    "            # Мін-Макс нормалізація\n",
    "            min_value = normalized_dataset[column].min()\n",
    "            max_value = normalized_dataset[column].max()\n",
    "            normalized_dataset[column] = (normalized_dataset[column] - min_value) / (max_value - min_value)\n",
    "    return normalized_dataset\n",
    "\n",
    "df = normalize_dataset(df)"
   ],
   "outputs": []
  },
  {
   "cell_type": "code",
   "execution_count": 8,
   "metadata": {
    "ExecuteTime": {
     "end_time": "2024-05-18T11:47:14.207040Z",
     "start_time": "2024-05-18T11:47:14.201756Z"
    }
   },
   "source": [
    "def plot_histogram(dataset, attribute, num_bins=10):\n",
    "    min_value = dataset[attribute].min()\n",
    "    max_value = dataset[attribute].max()\n",
    "    bin_width = (max_value - min_value) / num_bins\n",
    "    bins = [min_value + i * bin_width for i in range(num_bins + 1)]\n",
    "    \n",
    "    plt.hist(dataset[attribute], bins=bins, edgecolor='black')\n",
    "    \n",
    "    plt.title(f'Histogram of {attribute}')\n",
    "    plt.xlabel(attribute)\n",
    "    plt.ylabel('Frequency')\n",
    "    plt.grid(True)\n",
    "    \n",
    "    plt.show()\n",
    "\n",
    "def plot_attribute_relation(dataset, x_attribute, y_attribute,):\n",
    "    sns.regplot(data=dataset ,x=x_attribute , y=y_attribute)\n",
    "    \n",
    "    plt.title(f'{y_attribute} vs {x_attribute}')\n",
    "    plt.xlabel(x_attribute)\n",
    "    plt.ylabel(y_attribute)\n",
    "    plt.grid(True)\n",
    "    \n",
    "    plt.show()"
   ],
   "outputs": []
  },
  {
   "cell_type": "code",
   "execution_count": 9,
   "metadata": {
    "ExecuteTime": {
     "end_time": "2024-05-18T11:47:16.782053Z",
     "start_time": "2024-05-18T11:47:16.538465Z"
    }
   },
   "source": [
    "plot_histogram(df, 'engine-size', num_bins=10)\n",
    "plot_histogram(df, 'price', num_bins=10)\n",
    "plot_attribute_relation(df, 'price','engine-size',)\n",
    "\n",
    "plot_histogram(df, 'highway-mpg', num_bins=16)\n",
    "plot_histogram(df, 'horsepower', num_bins=16)\n",
    "plot_attribute_relation(df, 'highway-mpg','horsepower')"
   ],
   "outputs": []
  },
  {
   "cell_type": "code",
   "execution_count": 10,
   "metadata": {
    "ExecuteTime": {
     "end_time": "2024-05-18T11:49:21.117494Z",
     "start_time": "2024-05-18T11:49:21.100324Z"
    }
   },
   "source": [
    "def calculate_correlation(dataset, x_attribute, y_attribute):\n",
    "    x_values = dataset[x_attribute]\n",
    "    y_values = dataset[y_attribute]\n",
    "    \n",
    "    pearson_corr, _ = pearsonr(x_values, y_values)\n",
    "    \n",
    "    spearman_corr, _ = spearmanr(x_values, y_values)\n",
    "\n",
    "    print(f\"Correlation coefficient: {x_attribute}, {y_attribute}\")\n",
    "    print(\"\\tPearson:\", pearson_corr)\n",
    "    print(\"\\tSpearman:\", spearman_corr,'\\n')\n",
    "\n",
    "    return pearson_corr, spearman_corr\n",
    "\n",
    "calculate_correlation(df, 'engine-size', 'price')\n",
    "calculate_correlation(df, 'horsepower', 'highway-mpg')\n",
    "\n",
    "calculate_correlation(df, 'peak-rpm', 'horsepower')\n",
    "calculate_correlation(df, 'horsepower', 'curb-weight')"
   ],
   "outputs": []
  },
  {
   "cell_type": "code",
   "execution_count": 11,
   "metadata": {
    "ExecuteTime": {
     "end_time": "2024-05-18T11:49:34.204244Z",
     "start_time": "2024-05-18T11:49:33.951123Z"
    }
   },
   "source": [
    "def one_hot_encode_categorical(dataset, categorical_columns1):\n",
    "    \n",
    "    categorical_data = dataset[categorical_columns1]\n",
    "\n",
    "    encoder = OneHotEncoder(sparse_output=False, handle_unknown='ignore')\n",
    "    onehot_encoded = encoder.fit_transform(categorical_data)\n",
    "\n",
    "\n",
    "    encoder.fit(categorical_data)\n",
    "    \n",
    "    encoded_data = encoder.transform(categorical_data)\n",
    "    \n",
    "    encoded_columns = encoder.get_feature_names_out(categorical_columns1)\n",
    "    print(encoded_columns)\n",
    "    \n",
    "    encoded_df1 = df.drop(columns=categorical_columns1, axis=1)\n",
    "\n",
    "    encoded_df1.loc[:, encoded_columns] = encoded_data\n",
    "\n",
    "    return encoded_df1\n",
    "\n",
    "categorical_columns = ['fuel-type', 'drive-wheels', 'body-style', 'make', 'aspiration', \n",
    "                       'num-of-doors', 'engine-location', 'engine-type', 'num-of-cylinders', 'fuel-system']\n",
    "encoded_df = one_hot_encode_categorical(df, categorical_columns)"
   ],
   "outputs": []
  },
  {
   "cell_type": "markdown",
   "metadata": {},
   "source": []
  },
  {
   "cell_type": "code",
   "execution_count": 12,
   "metadata": {
    "ExecuteTime": {
     "end_time": "2024-05-18T11:50:06.449521Z",
     "start_time": "2024-05-18T11:49:57.696758Z"
    }
   },
   "source": [
    "df_test = encoded_df[['curb-weight', 'engine-size', 'height', 'width', 'length', 'peak-rpm']]\n",
    "\n",
    "corr = encoded_df[['curb-weight', 'engine-size', 'height', 'width', 'length', 'peak-rpm']].corr()\n",
    "sns.heatmap(corr, annot=True, cmap='coolwarm', fmt=\".2f\")\n",
    "plt.title('Correlation Heatmap')\n",
    "plt.show()\n",
    "\n",
    "sns.pairplot(df_test, kind='hist')\n",
    "plt.title('Pairplot with Regression Lines')\n",
    "plt.show()\n",
    "\n",
    "sns.pairplot(df_test, diag_kind='kde')\n",
    "plt.title('Pairplot with Kernel Density Estimates')\n",
    "plt.show()"
   ],
   "outputs": []
  },
  {
   "cell_type": "code",
   "execution_count": 13,
   "metadata": {
    "ExecuteTime": {
     "end_time": "2024-05-18T11:50:12.735809Z",
     "start_time": "2024-05-18T11:50:12.107545Z"
    }
   },
   "source": [
    "df_train, df_test = train_test_split(df, test_size=0.5, random_state=42)\n",
    "\n",
    "def train_and_evaluate_regression_model(feature, target, df_train1, df_test1):\n",
    "\n",
    "    X_train = df_train1[feature]\n",
    "    y_train = df_train1[target]\n",
    "\n",
    "    X_test = df_test1[feature]\n",
    "    y_test = df_test1[target]\n",
    "    \n",
    "    model = LinearRegression()\n",
    "\n",
    "    model.fit(X_train, y_train)\n",
    "    \n",
    "    y_pred = model.predict(X_test)\n",
    "    \n",
    "    mse = mean_squared_error(y_test, y_pred)\n",
    "    r2 = r2_score(y_test, y_pred)\n",
    "    \n",
    "    print(\"Mean Squared Error:\", mse)\n",
    "  \n",
    "    print(\"Coefficients: \\n\", model.coef_)\n",
    "    print(\"Coefficient of determination: %.2f\" % r2)\n",
    "\n",
    "    if len(feature) == 1:\n",
    "        plt.scatter(X_train, y_train, label='Data')\n",
    "        plt.plot(X_test, y_pred, color='red', linewidth=2, label='Regression Line')\n",
    "        plt.xlabel(feature)\n",
    "        plt.ylabel(target)\n",
    "        plt.title('Linear Regression Model')\n",
    "        plt.text(0.02, 0.8, f'MSE: {mse:.5f}', transform=plt.gca().transAxes, fontsize=12)\n",
    "        plt.text(0.02, 0.7, f'r2: {r2}', transform=plt.gca().transAxes, fontsize=12)\n",
    "        plt.text(0.02, 0.6, f'cof: {model.coef_[0]:.5f}', transform=plt.gca().transAxes, fontsize=12)\n",
    "        plt.legend()\n",
    "        plt.show()\n",
    "\n",
    "    return model"
   ],
   "outputs": []
  },
  {
   "cell_type": "code",
   "execution_count": 14,
   "metadata": {
    "ExecuteTime": {
     "end_time": "2024-05-18T11:50:17.698087Z",
     "start_time": "2024-05-18T11:50:17.395706Z"
    }
   },
   "source": [
    "train_and_evaluate_regression_model(['horsepower'], 'price', df_train, df_test)\n",
    "train_and_evaluate_regression_model(['peak-rpm'], 'price', df_train, df_test)\n",
    "train_and_evaluate_regression_model(['engine-size','horsepower','highway-mpg', 'curb-weight', 'symboling'], 'price', df_train, df_test)"
   ],
   "outputs": []
  }
 ],
 "metadata": {
  "kernelspec": {
   "display_name": "Python 3",
   "language": "python",
   "name": "python3"
  },
  "language_info": {
   "codemirror_mode": {
    "name": "ipython",
    "version": 3
   },
   "file_extension": ".py",
   "mimetype": "text/x-python",
   "name": "python",
   "nbconvert_exporter": "python",
   "pygments_lexer": "ipython3",
   "version": "3.11.5"
  }
 },
 "nbformat": 4,
 "nbformat_minor": 2
}
