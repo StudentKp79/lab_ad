{
 "cells": [
  {
   "cell_type": "code",
   "execution_count": null,
   "id": "initial_id",
   "metadata": {
    "collapsed": true
   },
   "outputs": [],
   "source": [
    "import os\n",
    "import urllib.request\n",
    "import datetime\n",
    "import pandas as pd\n",
    "import glob\n"
   ]
  },
  {
   "metadata": {},
   "cell_type": "code",
   "outputs": [],
   "execution_count": null,
   "source": [
    "def create_folder(folder_name):\n",
    "    if not os.path.exists(folder_name):\n",
    "        os.makedirs(folder_name, exist_ok=True)\n",
    "    print(f\"Folder '{folder_name}' was successfully created or already exists.\")\n",
    "\n",
    "def download_vhi_data(region_id, start_year=1981, end_year=2024):\n",
    "    url = f\"https://www.star.nesdis.noaa.gov/smcd/emb/vci/VH/get_TS_admin.php?country=UKR&provinceID={region_id}&year1={start_year}&year2={end_year}&type=Mean\"\n",
    "    response = urllib.request.urlopen(url)\n",
    "    if response.status == 200:\n",
    "        timestamp = datetime.datetime.now().strftime('%Y-%m-%d_%H-%M')\n",
    "        filename = f'data/vhi_{region_id}_{timestamp}.csv'\n",
    "        with open(filename, 'wb') as file:\n",
    "            file.write(response.read())\n",
    "        print(f\"Data for region {region_id} saved to {filename}.\")\n",
    "    else:\n",
    "        print(f\"Failed to download data for region {region_id}.\")\n",
    "        "
   ],
   "id": "98d7eed356f19b7e"
  },
  {
   "metadata": {},
   "cell_type": "code",
   "outputs": [],
   "execution_count": null,
   "source": [
    "create_folder('data')\n",
    "\n",
    "for region in range(1, 28):\n",
    "    download_vhi_data(region)"
   ],
   "id": "6a052d975e8e75da"
  },
  {
   "metadata": {},
   "cell_type": "code",
   "outputs": [],
   "execution_count": null,
   "source": [
    "region_id_map = {\n",
    "    1: 24, 2: 25, 3: 5, 4: 4, 5: 3, 6: 4, 7: 8, 8: 19, 9: 9, 10: 10, 11: 11, 12: 12, 13: 13, 14: 14, 15: 15, 16: 16, 17: 17, 18: 18, 19: 20, 20: 20, 21: 21, 22: 22, 23: 23, 24: 1, 25: 25, 26: 26, 27: 27\n",
    "}\n",
    "\n",
    "region_names_ukr = {\n",
    "    1: \"Вінницька\",\n",
    "    2: \"Волинська\",\n",
    "    3: \"Дніпропетровська\",\n",
    "    4: \"Донецька\",\n",
    "    5: \"Житомирська\", \n",
    "    6: \"Закарпатська\",\n",
    "    7: \"Запорізька\", \n",
    "    8: \"Івано-Франківська\",\n",
    "    9: \"Київська\",\n",
    "    10: \"Кіровоградська\", \n",
    "    11: \"Луганська\",\n",
    "    12: \"Львівська\",\n",
    "    13: \"Миколаївська\",\n",
    "    14: \"Одеська\",\n",
    "    15: \"Полтавська\", \n",
    "    16: \"Рівненська\",\n",
    "    17: \"Сумська\",\n",
    "    18: \"Тернопільська\",\n",
    "    19: \"Харківська\",\n",
    "    20: \"Херсонська\", \n",
    "    21: \"Хмельницька\",\n",
    "    22: \"Черкаська\",\n",
    "    23: \"Чернівецька\",\n",
    "    24: \"Чернігівська\",\n",
    "    25: \"Республіка Крим\"\n",
    "}"
   ],
   "id": "ce2bda61e27120b3"
  },
  {
   "metadata": {},
   "cell_type": "code",
   "outputs": [],
   "execution_count": null,
   "source": [
    "reverse_region_id_map = {v: k for k, v in region_id_map.items()}\n",
    "\n",
    "def rename_regions(df):\n",
    "    df['region_id'] = df['region_id'].map(region_id_map)\n",
    "    return df"
   ],
   "id": "85977eb21c36a266"
  },
  {
   "metadata": {},
   "cell_type": "code",
   "outputs": [],
   "execution_count": null,
   "source": [
    "def create_data_frame(folder_path1):\n",
    "    csv_files = glob.glob(folder_path1 + \"/*.csv\")\n",
    "\n",
    "    headers = ['Year', 'Week', 'SMN', 'SMT', 'VCI', 'TCI', 'VHI', 'empty']\n",
    "    frames = []\n",
    "\n",
    "    for file in csv_files:\n",
    "        region_id1 = int(file.split('_')[1]) \n",
    "        df = pd.read_csv(file, header=1, names=headers)\n",
    "        df.at[0, 'Year'] = df.at[0, 'Year'][9:]\n",
    "        # df = df.drop(df.index[-1])  \n",
    "        df = df.drop(df.loc[df['VHI'] == -1].index)\n",
    "        df = df.drop('empty', axis=1)\n",
    "        df.insert(0, 'region_id', region_id1, True)\n",
    "        \n",
    "        df['Year'] = df['Year'].str.extract(r'(\\d+)', expand=False)\n",
    "        df = df.dropna(subset=['Year'])\n",
    "        df['Year'] = df['Year'].astype(int)\n",
    "        \n",
    "        frames.append(df)\n",
    "\n",
    "    result = pd.concat(frames).drop_duplicates().reset_index(drop=True)\n",
    "    return rename_regions(result)"
   ],
   "id": "263558a0c3c16d02"
  },
  {
   "metadata": {},
   "cell_type": "code",
   "outputs": [],
   "execution_count": null,
   "source": [
    "data = create_data_frame('data')\n",
    "\n",
    "print(data, '\\n')"
   ],
   "id": "68d1fb0215be1a29"
  },
  {
   "metadata": {},
   "cell_type": "code",
   "outputs": [],
   "execution_count": null,
   "source": [
    "def analyze_region_years(df, region_id, year_range):\n",
    "    df = df.dropna(subset=['Year'])  # Видалити рядки зі значеннями NaN у стовпці Year\n",
    "    df.loc[:, 'Year'] = df['Year'].astype(int)\n",
    "    region_data = df[(df['region_id'] == region_id) & df['Year'].between(year_range[0], year_range[1])]\n",
    "    if not region_data.empty:\n",
    "        min_vhi = region_data['VHI'].min()\n",
    "        max_vhi = region_data['VHI'].max()\n",
    "        original_region_id = reverse_region_id_map.get(region_id, None)\n",
    "        region_name = region_names_ukr.get(original_region_id, \"Невідомий регіон\")\n",
    "        print(f\"Регіон: {region_name}, Min VHI: {min_vhi}, Max VHI: {max_vhi}\")"
   ],
   "id": "4684f8adc286dc75"
  },
  {
   "metadata": {},
   "cell_type": "code",
   "outputs": [],
   "execution_count": null,
   "source": [
    "for region in range(1, 26):\n",
    "    analyze_region_years(data, region, (1985, 2010))"
   ],
   "id": "67a4906b7b669f01"
  },
  {
   "metadata": {},
   "cell_type": "code",
   "outputs": [],
   "execution_count": null,
   "source": [
    "def drought_years_analysis(df, years_range=(\"1981\", \"2024\"), selected_regions=None, threshold_extreme=15, threshold_moderate=(15, 35), percent_threshold=20):\n",
    "    extreme_drought_years = []\n",
    "    moderate_drought_years = []\n",
    "\n",
    "    if selected_regions:\n",
    "        df = df[df['region_id'].isin(selected_regions)]\n",
    "\n",
    "    total_regions = len(set(df['region_id']))\n",
    "    min_regions_affected = (percent_threshold / 100) * total_regions\n",
    "\n",
    "    for year in range(int(years_range[0]), int(years_range[1]) + 1):\n",
    "        yearly_data = df[df['Year'] == year]\n",
    "\n",
    "        if yearly_data.empty:\n",
    "            continue\n",
    "\n",
    "        extreme_drought_count = len(yearly_data[yearly_data['VHI'] < threshold_extreme])\n",
    "        moderate_drought_count = len(yearly_data[(yearly_data['VHI'] >= threshold_moderate[0]) & (yearly_data['VHI'] <= threshold_moderate[1])])\n",
    "\n",
    "        if extreme_drought_count >= min_regions_affected:\n",
    "            extreme_drought_years.append(year)\n",
    "        if moderate_drought_count >= min_regions_affected:\n",
    "            moderate_drought_years.append(year)\n",
    "\n",
    "    return extreme_drought_years, moderate_drought_years"
   ],
   "id": "d6b11d332ae044e6"
  },
  {
   "metadata": {},
   "cell_type": "code",
   "outputs": [],
   "execution_count": null,
   "source": [
    "extreme_drought_years, moderate_drought_years = drought_years_analysis(data, years_range=(\"1999\", \"2001\"), selected_regions=[3, 5, 12])\n",
    "print(\"Екстремальні посухи для обраних регіонів:\", extreme_drought_years)\n",
    "print(\"Помірні посухи для обраних регіонів:\", moderate_drought_years)"
   ],
   "id": "7dd68ecd1bf7030"
  }
 ],
 "metadata": {
  "kernelspec": {
   "display_name": "Python 3",
   "language": "python",
   "name": "python3"
  },
  "language_info": {
   "codemirror_mode": {
    "name": "ipython",
    "version": 2
   },
   "file_extension": ".py",
   "mimetype": "text/x-python",
   "name": "python",
   "nbconvert_exporter": "python",
   "pygments_lexer": "ipython2",
   "version": "2.7.6"
  }
 },
 "nbformat": 4,
 "nbformat_minor": 5
}
